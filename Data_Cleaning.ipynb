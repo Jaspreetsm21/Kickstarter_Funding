{
 "cells": [
  {
   "cell_type": "code",
   "execution_count": 1,
   "metadata": {},
   "outputs": [],
   "source": [
    "import pandas as pd\n",
    "import numpy as np\n",
    "import matplotlib.pyplot as plt \n",
    "import seaborn as sns"
   ]
  },
  {
   "cell_type": "code",
   "execution_count": 2,
   "metadata": {},
   "outputs": [],
   "source": [
    "train = pd.read_csv('train.csv')"
   ]
  },
  {
   "cell_type": "markdown",
   "metadata": {},
   "source": [
    "## Data Preparation "
   ]
  },
  {
   "cell_type": "code",
   "execution_count": 3,
   "metadata": {},
   "outputs": [],
   "source": [
    "from datetime import datetime as dt\n",
    "train.deadline =pd.to_datetime(train['deadline'],unit='s')#.dt.strftime('%Y%m%d')\n",
    "train.state_changed_at =pd.to_datetime(train['state_changed_at'],unit='s')#.dt.strftime('%Y%m%d')\n",
    "train.created_at =pd.to_datetime(train['created_at'],unit='s')#.dt.strftime('%Y%m%d')\n",
    "train.launched_at =pd.to_datetime(train['launched_at'],unit='s')#.dt.strftime('%Y%m%d')"
   ]
  },
  {
   "cell_type": "code",
   "execution_count": 4,
   "metadata": {},
   "outputs": [],
   "source": [
    "train['Start2Finsih']= train.deadline - train.created_at\n",
    "train['Launch2Finsih']= train.deadline - train.launched_at\n",
    "train['Launch2Status']= train.state_changed_at - train.launched_at\n",
    "train['Create2Launch']= train.launched_at -train.created_at\n",
    "#train['Finish2Status']= train.state_changed_at -train.deadline"
   ]
  },
  {
   "cell_type": "code",
   "execution_count": 5,
   "metadata": {},
   "outputs": [],
   "source": [
    "train['Start2Finsih'] = train['Start2Finsih'].dt.days\n",
    "train['Launch2Finsih']= train['Launch2Finsih'].dt.days\n",
    "train['Launch2Status']= train['Launch2Status'].dt.days\n",
    "train['Create2Launch']= train['Create2Launch'].dt.days\n",
    "#train['Finish2Status']= train['Finish2Status'].dt.days"
   ]
  },
  {
   "cell_type": "code",
   "execution_count": 6,
   "metadata": {},
   "outputs": [],
   "source": [
    "train.deadline =pd.to_datetime(train['deadline'],unit='s').dt.strftime('%Y%m%d')\n",
    "train.state_changed_at =pd.to_datetime(train['state_changed_at'],unit='s').dt.strftime('%Y%m%d')\n",
    "train.created_at =pd.to_datetime(train['created_at'],unit='s').dt.strftime('%Y%m%d')\n",
    "train.launched_at =pd.to_datetime(train['launched_at'],unit='s').dt.strftime('%Y%m%d')"
   ]
  },
  {
   "cell_type": "code",
   "execution_count": 7,
   "metadata": {},
   "outputs": [],
   "source": [
    "train = train.drop(['name','desc','keywords'],axis=1)"
   ]
  },
  {
   "cell_type": "code",
   "execution_count": 8,
   "metadata": {},
   "outputs": [],
   "source": [
    "train['disable_communication']= train['disable_communication'].astype('str')\n",
    "train['disable_communication'] = train['disable_communication'].replace(to_replace=['False', 'True'], value=[0, 1])"
   ]
  },
  {
   "cell_type": "code",
   "execution_count": 9,
   "metadata": {},
   "outputs": [],
   "source": [
    "cur = pd.get_dummies(train.country,prefix='C')\n",
    "dur = pd.get_dummies(train.disable_communication,prefix='D')"
   ]
  },
  {
   "cell_type": "code",
   "execution_count": 10,
   "metadata": {},
   "outputs": [],
   "source": [
    "new_train = pd.concat([train,cur],axis=1)"
   ]
  },
  {
   "cell_type": "code",
   "execution_count": 11,
   "metadata": {},
   "outputs": [],
   "source": [
    "new_train = new_train.drop(['currency','country','project_id','disable_communication'],axis=1)"
   ]
  },
  {
   "cell_type": "code",
   "execution_count": 12,
   "metadata": {},
   "outputs": [],
   "source": [
    "new_train.to_csv('clean_data.csv')"
   ]
  },
  {
   "cell_type": "code",
   "execution_count": null,
   "metadata": {},
   "outputs": [],
   "source": []
  }
 ],
 "metadata": {
  "kernelspec": {
   "display_name": "Python 3",
   "language": "python",
   "name": "python3"
  },
  "language_info": {
   "codemirror_mode": {
    "name": "ipython",
    "version": 3
   },
   "file_extension": ".py",
   "mimetype": "text/x-python",
   "name": "python",
   "nbconvert_exporter": "python",
   "pygments_lexer": "ipython3",
   "version": "3.6.5"
  }
 },
 "nbformat": 4,
 "nbformat_minor": 2
}
